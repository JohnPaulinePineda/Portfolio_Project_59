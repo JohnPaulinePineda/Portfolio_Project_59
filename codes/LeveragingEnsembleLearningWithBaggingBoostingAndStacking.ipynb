{
 "cells": [
  {
   "cell_type": "markdown",
   "id": "61cd83d7-4abb-4e73-9b30-fc1e29a4b938",
   "metadata": {},
   "source": [
    "***\n",
    "# Supervised Learning : Leveraging Ensemble Learning With Bagging, Boosting and Stacking"
   ]
  },
  {
   "cell_type": "markdown",
   "id": "8d2c2dd8-71e0-4037-b7c5-29d686659cbc",
   "metadata": {},
   "source": [
    "***\n",
    "### [**John Pauline Pineda**](https://github.com/JohnPaulinePineda) <br> <br> *February 15, 2025*\n",
    "***"
   ]
  },
  {
   "cell_type": "markdown",
   "id": "2c4600f0-b63c-46a8-930e-c7e2be44c981",
   "metadata": {},
   "source": [
    "* [**1. Table of Contents**](#TOC)\n",
    "* [**2. Summary**](#Summary)   \n",
    "* [**3. References**](#References)\n",
    "\n",
    "***"
   ]
  },
  {
   "cell_type": "markdown",
   "id": "855bb29d-f210-4f80-9adc-b1ad45ffffb6",
   "metadata": {},
   "source": [
    "# 1. Table of Contents <a class=\"anchor\" id=\"TOC\"></a>"
   ]
  },
  {
   "cell_type": "markdown",
   "id": "a90142a2-bc4f-4891-998e-7ca47f7e391d",
   "metadata": {},
   "source": [
    "# 2. Summary <a class=\"anchor\" id=\"Summary\"></a>"
   ]
  },
  {
   "cell_type": "markdown",
   "id": "f7e2517f-dcbf-467f-819c-f12c6af78ff9",
   "metadata": {},
   "source": [
    "# 3. References <a class=\"anchor\" id=\"References\"></a>"
   ]
  },
  {
   "cell_type": "code",
   "execution_count": 1,
   "id": "a91205dc-1241-4c46-96fd-88422fbac225",
   "metadata": {},
   "outputs": [
    {
     "data": {
      "text/html": [
       "<style>.rendered_html { font-size: 15px; font-family: 'Trebuchet MS'; }</style>"
      ],
      "text/plain": [
       "<IPython.core.display.HTML object>"
      ]
     },
     "metadata": {},
     "output_type": "display_data"
    }
   ],
   "source": [
    "from IPython.display import display, HTML\n",
    "display(HTML(\"<style>.rendered_html { font-size: 15px; font-family: 'Trebuchet MS'; }</style>\"))"
   ]
  }
 ],
 "metadata": {
  "kernelspec": {
   "display_name": "Python 3 (ipykernel)",
   "language": "python",
   "name": "python3"
  },
  "language_info": {
   "codemirror_mode": {
    "name": "ipython",
    "version": 3
   },
   "file_extension": ".py",
   "mimetype": "text/x-python",
   "name": "python",
   "nbconvert_exporter": "python",
   "pygments_lexer": "ipython3",
   "version": "3.12.5"
  }
 },
 "nbformat": 4,
 "nbformat_minor": 5
}
